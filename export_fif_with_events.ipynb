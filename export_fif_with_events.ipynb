{
 "cells": [
  {
   "cell_type": "code",
   "execution_count": 1,
   "metadata": {},
   "outputs": [],
   "source": [
    "# 自己设置event事件，并导出为带该事件的fif文件\n",
    "# https://mne.tools/stable/auto_tutorials/raw/plot_30_annotate_raw.html#sphx-glr-auto-tutorials-raw-plot-30-annotate-raw-py\n",
    "import numpy as np\n",
    "import pandas as pd\n",
    "from mne.io import read_raw_fif\n",
    "import mne\n",
    "from datetime import timedelta"
   ]
  },
  {
   "cell_type": "code",
   "execution_count": 7,
   "metadata": {},
   "outputs": [
    {
     "name": "stdout",
     "output_type": "stream",
     "text": [
      "Opening raw data file /Volumes/Lexar/MEG/MEG2224_li_yi_20170302_EP_4_tsss.fif...\n",
      "    Range : 17000 ... 496999 =     17.000 ...   496.999 secs\n",
      "Ready.\n",
      "Reading 0 ... 479999  =      0.000 ...   479.999 secs...\n"
     ]
    },
    {
     "name": "stderr",
     "output_type": "stream",
     "text": [
      "<ipython-input-7-a8bec9b7c3ae>:1: RuntimeWarning: This filename (/Volumes/Lexar/MEG/MEG2224_li_yi_20170302_EP_4_tsss.fif) does not conform to MNE naming conventions. All raw files should end with raw.fif, raw_sss.fif, raw_tsss.fif, raw.fif.gz, raw_sss.fif.gz, raw_tsss.fif.gz or _meg.fif\n",
      "  raw = read_raw_fif(\"/Volumes/Lexar/MEG/MEG2224_li_yi_20170302_EP_4_tsss.fif\",preload=True)\n"
     ]
    }
   ],
   "source": [
    "raw = read_raw_fif(\"/Volumes/Lexar/MEG/MEG2224_li_yi_20170302_EP_4_tsss.fif\",preload=True)"
   ]
  },
  {
   "cell_type": "code",
   "execution_count": 40,
   "metadata": {},
   "outputs": [],
   "source": [
    "# raw.info['ch_names'] \n",
    "\n",
    "#  'STI101',\n",
    "#  'STI201',\n",
    "#  'STI301']"
   ]
  },
  {
   "cell_type": "code",
   "execution_count": 4,
   "metadata": {},
   "outputs": [],
   "source": [
    "events = pd.read_csv(\"/Volumes/Lexar/MEG/MEG2224_li_yi_20170302_EP_4_tsss_MarkerFile-bst.txt\",header=None)"
   ]
  },
  {
   "cell_type": "code",
   "execution_count": 5,
   "metadata": {},
   "outputs": [
    {
     "data": {
      "text/html": [
       "<div>\n",
       "<style scoped>\n",
       "    .dataframe tbody tr th:only-of-type {\n",
       "        vertical-align: middle;\n",
       "    }\n",
       "\n",
       "    .dataframe tbody tr th {\n",
       "        vertical-align: top;\n",
       "    }\n",
       "\n",
       "    .dataframe thead th {\n",
       "        text-align: right;\n",
       "    }\n",
       "</style>\n",
       "<table border=\"1\" class=\"dataframe\">\n",
       "  <thead>\n",
       "    <tr style=\"text-align: right;\">\n",
       "      <th></th>\n",
       "      <th>0</th>\n",
       "      <th>1</th>\n",
       "      <th>2</th>\n",
       "    </tr>\n",
       "  </thead>\n",
       "  <tbody>\n",
       "    <tr>\n",
       "      <th>0</th>\n",
       "      <td>spike</td>\n",
       "      <td>31.926</td>\n",
       "      <td>0</td>\n",
       "    </tr>\n",
       "    <tr>\n",
       "      <th>1</th>\n",
       "      <td>spike</td>\n",
       "      <td>47.610</td>\n",
       "      <td>0</td>\n",
       "    </tr>\n",
       "    <tr>\n",
       "      <th>2</th>\n",
       "      <td>spike</td>\n",
       "      <td>55.081</td>\n",
       "      <td>0</td>\n",
       "    </tr>\n",
       "    <tr>\n",
       "      <th>3</th>\n",
       "      <td>spike</td>\n",
       "      <td>70.258</td>\n",
       "      <td>0</td>\n",
       "    </tr>\n",
       "    <tr>\n",
       "      <th>4</th>\n",
       "      <td>spike</td>\n",
       "      <td>73.494</td>\n",
       "      <td>0</td>\n",
       "    </tr>\n",
       "    <tr>\n",
       "      <th>5</th>\n",
       "      <td>spike</td>\n",
       "      <td>79.761</td>\n",
       "      <td>0</td>\n",
       "    </tr>\n",
       "    <tr>\n",
       "      <th>6</th>\n",
       "      <td>spike</td>\n",
       "      <td>80.386</td>\n",
       "      <td>0</td>\n",
       "    </tr>\n",
       "    <tr>\n",
       "      <th>7</th>\n",
       "      <td>spike</td>\n",
       "      <td>85.830</td>\n",
       "      <td>0</td>\n",
       "    </tr>\n",
       "    <tr>\n",
       "      <th>8</th>\n",
       "      <td>spike</td>\n",
       "      <td>94.389</td>\n",
       "      <td>0</td>\n",
       "    </tr>\n",
       "    <tr>\n",
       "      <th>9</th>\n",
       "      <td>spike</td>\n",
       "      <td>134.203</td>\n",
       "      <td>0</td>\n",
       "    </tr>\n",
       "    <tr>\n",
       "      <th>10</th>\n",
       "      <td>spike</td>\n",
       "      <td>140.992</td>\n",
       "      <td>0</td>\n",
       "    </tr>\n",
       "    <tr>\n",
       "      <th>11</th>\n",
       "      <td>spike</td>\n",
       "      <td>144.688</td>\n",
       "      <td>0</td>\n",
       "    </tr>\n",
       "    <tr>\n",
       "      <th>12</th>\n",
       "      <td>spike</td>\n",
       "      <td>147.296</td>\n",
       "      <td>0</td>\n",
       "    </tr>\n",
       "    <tr>\n",
       "      <th>13</th>\n",
       "      <td>spike</td>\n",
       "      <td>167.947</td>\n",
       "      <td>0</td>\n",
       "    </tr>\n",
       "    <tr>\n",
       "      <th>14</th>\n",
       "      <td>spike</td>\n",
       "      <td>172.314</td>\n",
       "      <td>0</td>\n",
       "    </tr>\n",
       "    <tr>\n",
       "      <th>15</th>\n",
       "      <td>spike</td>\n",
       "      <td>216.726</td>\n",
       "      <td>0</td>\n",
       "    </tr>\n",
       "    <tr>\n",
       "      <th>16</th>\n",
       "      <td>spike</td>\n",
       "      <td>225.676</td>\n",
       "      <td>0</td>\n",
       "    </tr>\n",
       "    <tr>\n",
       "      <th>17</th>\n",
       "      <td>spike</td>\n",
       "      <td>244.143</td>\n",
       "      <td>0</td>\n",
       "    </tr>\n",
       "    <tr>\n",
       "      <th>18</th>\n",
       "      <td>spike</td>\n",
       "      <td>288.719</td>\n",
       "      <td>0</td>\n",
       "    </tr>\n",
       "    <tr>\n",
       "      <th>19</th>\n",
       "      <td>spike</td>\n",
       "      <td>303.938</td>\n",
       "      <td>0</td>\n",
       "    </tr>\n",
       "    <tr>\n",
       "      <th>20</th>\n",
       "      <td>spike</td>\n",
       "      <td>405.255</td>\n",
       "      <td>0</td>\n",
       "    </tr>\n",
       "  </tbody>\n",
       "</table>\n",
       "</div>"
      ],
      "text/plain": [
       "        0        1  2\n",
       "0   spike   31.926  0\n",
       "1   spike   47.610  0\n",
       "2   spike   55.081  0\n",
       "3   spike   70.258  0\n",
       "4   spike   73.494  0\n",
       "5   spike   79.761  0\n",
       "6   spike   80.386  0\n",
       "7   spike   85.830  0\n",
       "8   spike   94.389  0\n",
       "9   spike  134.203  0\n",
       "10  spike  140.992  0\n",
       "11  spike  144.688  0\n",
       "12  spike  147.296  0\n",
       "13  spike  167.947  0\n",
       "14  spike  172.314  0\n",
       "15  spike  216.726  0\n",
       "16  spike  225.676  0\n",
       "17  spike  244.143  0\n",
       "18  spike  288.719  0\n",
       "19  spike  303.938  0\n",
       "20  spike  405.255  0"
      ]
     },
     "execution_count": 5,
     "metadata": {},
     "output_type": "execute_result"
    }
   ],
   "source": [
    "# 标记的spike事件 \n",
    "events"
   ]
  },
  {
   "cell_type": "code",
   "execution_count": 8,
   "metadata": {},
   "outputs": [
    {
     "data": {
      "text/plain": [
       "1000.0"
      ]
     },
     "execution_count": 8,
     "metadata": {},
     "output_type": "execute_result"
    }
   ],
   "source": [
    "sfreq = raw.info['sfreq']\n",
    "sfreq"
   ]
  },
  {
   "cell_type": "code",
   "execution_count": 11,
   "metadata": {},
   "outputs": [
    {
     "name": "stdout",
     "output_type": "stream",
     "text": [
      "onset: [ 31926  47610  55081  70258  73494  79761  80386  85830  94389 134203\n",
      " 140992 144688 147296 167947 172314 216726 225676 244143 288719 303938\n",
      " 405255]\n",
      "spike_event_id: [10001, 10001, 10001, 10001, 10001, 10001, 10001, 10001, 10001, 10001, 10001, 10001, 10001, 10001, 10001, 10001, 10001, 10001, 10001, 10001, 10001]\n"
     ]
    },
    {
     "data": {
      "text/plain": [
       "[(31926, 0, 10001),\n",
       " (47610, 0, 10001),\n",
       " (55081, 0, 10001),\n",
       " (70258, 0, 10001),\n",
       " (73494, 0, 10001),\n",
       " (79761, 0, 10001),\n",
       " (80386, 0, 10001),\n",
       " (85830, 0, 10001),\n",
       " (94389, 0, 10001),\n",
       " (134203, 0, 10001),\n",
       " (140992, 0, 10001),\n",
       " (144688, 0, 10001),\n",
       " (147296, 0, 10001),\n",
       " (167947, 0, 10001),\n",
       " (172314, 0, 10001),\n",
       " (216726, 0, 10001),\n",
       " (225676, 0, 10001),\n",
       " (244143, 0, 10001),\n",
       " (288719, 0, 10001),\n",
       " (303938, 0, 10001),\n",
       " (405255, 0, 10001)]"
      ]
     },
     "execution_count": 11,
     "metadata": {},
     "output_type": "execute_result"
    }
   ],
   "source": [
    "# convert event for mne\n",
    "# (onset,pre event_id,event_id) as. int\n",
    "\n",
    "mne_events = [[]]\n",
    "# mne_events[:,] \n",
    "\n",
    "onset = events.iloc[:,1].to_numpy() * sfreq\n",
    "onset = onset.astype(int)\n",
    "spike_event_id = [10001] * len(onset)\n",
    "pre_event_id = [0] * len(onset)\n",
    "print(\"onset:\",onset)\n",
    "\n",
    "print(\"spike_event_id:\",spike_event_id)\n",
    "\n",
    "mne_events = list(zip(onset,pre_event_id,spike_event_id))\n",
    "mne_events"
   ]
  },
  {
   "cell_type": "code",
   "execution_count": 12,
   "metadata": {},
   "outputs": [],
   "source": [
    "# method1: add spike event\n",
    "# https://mne.tools/stable/generated/mne.io.Raw.html#mne.io.Raw.add_events\n",
    "raw.add_events(mne_events,'STI101')"
   ]
  },
  {
   "cell_type": "code",
   "execution_count": 84,
   "metadata": {},
   "outputs": [
    {
     "name": "stdout",
     "output_type": "stream",
     "text": [
      "Overwriting existing file.\n",
      "Writing /Volumes/R/MEG/sample_meg_raw_spike.fif\n"
     ]
    },
    {
     "name": "stderr",
     "output_type": "stream",
     "text": [
      "<ipython-input-84-07e2bce10eb7>:1: RuntimeWarning: This filename (/Volumes/R/MEG/sample_meg_raw_spike.fif) does not conform to MNE naming conventions. All raw files should end with raw.fif, raw_sss.fif, raw_tsss.fif, raw.fif.gz, raw_sss.fif.gz, raw_tsss.fif.gz or _meg.fif\n",
      "  raw.save('/Volumes/R/MEG/sample_meg_raw_spike.fif',overwrite=True)\n"
     ]
    },
    {
     "name": "stdout",
     "output_type": "stream",
     "text": [
      "Closing /Volumes/R/MEG/sample_meg_raw_spike.fif\n",
      "[done]\n"
     ]
    }
   ],
   "source": [
    "raw.save('/Volumes/R/MEG/sample_meg_raw_spike.fif',overwrite=True)"
   ]
  },
  {
   "cell_type": "code",
   "execution_count": 85,
   "metadata": {},
   "outputs": [
    {
     "name": "stdout",
     "output_type": "stream",
     "text": [
      "Opening raw data file /Volumes/R/MEG/sample_meg_raw_spike.fif...\n"
     ]
    },
    {
     "name": "stderr",
     "output_type": "stream",
     "text": [
      "<ipython-input-85-c03e8cad4e04>:1: RuntimeWarning: This filename (/Volumes/R/MEG/sample_meg_raw_spike.fif) does not conform to MNE naming conventions. All raw files should end with raw.fif, raw_sss.fif, raw_tsss.fif, raw.fif.gz, raw_sss.fif.gz, raw_tsss.fif.gz or _meg.fif\n",
      "  raw_eve = read_raw_fif(\"/Volumes/R/MEG/sample_meg_raw_spike.fif\")\n"
     ]
    },
    {
     "name": "stdout",
     "output_type": "stream",
     "text": [
      "    Range : 17000 ... 496999 =     17.000 ...   496.999 secs\n",
      "Ready.\n"
     ]
    }
   ],
   "source": [
    "raw_eve = read_raw_fif(\"/Volumes/R/MEG/sample_meg_raw_spike.fif\")"
   ]
  },
  {
   "cell_type": "code",
   "execution_count": 89,
   "metadata": {},
   "outputs": [
    {
     "name": "stdout",
     "output_type": "stream",
     "text": [
      "6 events found\n",
      "Event IDs: [10001]\n"
     ]
    },
    {
     "data": {
      "text/plain": [
       "array([[ 31926,      0,  10001],\n",
       "       [ 47610,      0,  10001],\n",
       "       [ 55081,      0,  10001],\n",
       "       [ 73494,      0,  10001],\n",
       "       [ 94389,      0,  10001],\n",
       "       [134203,      0,  10001]])"
      ]
     },
     "execution_count": 89,
     "metadata": {},
     "output_type": "execute_result"
    }
   ],
   "source": [
    "mne.find_events(raw_eve, stim_channel='STI101')"
   ]
  },
  {
   "cell_type": "code",
   "execution_count": 90,
   "metadata": {},
   "outputs": [
    {
     "data": {
      "text/plain": [
       "[(31926, 0, 10001),\n",
       " (47610, 0, 10001),\n",
       " (55081, 0, 10001),\n",
       " (73494, 0, 10001),\n",
       " (94389, 0, 10001),\n",
       " (134203, 0, 10001)]"
      ]
     },
     "execution_count": 90,
     "metadata": {},
     "output_type": "execute_result"
    }
   ],
   "source": [
    "mne_events"
   ]
  },
  {
   "cell_type": "code",
   "execution_count": 13,
   "metadata": {},
   "outputs": [
    {
     "data": {
      "text/plain": [
       "datetime.datetime(2017, 3, 2, 3, 14, 24, 980120, tzinfo=datetime.timezone.utc)"
      ]
     },
     "execution_count": 13,
     "metadata": {},
     "output_type": "execute_result"
    }
   ],
   "source": [
    "# method2: add spike annotation\n",
    "# https://mne.tools/stable/auto_tutorials/raw/plot_30_annotate_raw.html#sphx-glr-auto-tutorials-raw-plot-30-annotate-raw-py\n",
    "# “”“\n",
    "# Notice that orig_time is None, because we haven’t specified it. In those cases, when you add the annotations to a Raw object, \n",
    "# it is assumed that the orig_time matches the time of the first sample of the recording, so orig_time will be set to\n",
    "# match the recording measurement date (raw.info['meas_date']).\n",
    "# ”“”\n",
    "raw.info['meas_date']\n",
    "orig_time = raw.annotations.orig_time\n",
    "orig_time"
   ]
  },
  {
   "cell_type": "code",
   "execution_count": 14,
   "metadata": {},
   "outputs": [
    {
     "name": "stdout",
     "output_type": "stream",
     "text": [
      "meas_date: 2017-03-02 03:14:24.980120+00:00\n",
      "True\n"
     ]
    }
   ],
   "source": [
    "meas_date = raw.info['meas_date']\n",
    "print(\"meas_date:\",meas_date)\n",
    "orig_time = raw.annotations.orig_time\n",
    "print(meas_date == orig_time)"
   ]
  },
  {
   "cell_type": "code",
   "execution_count": 15,
   "metadata": {},
   "outputs": [
    {
     "data": {
      "text/plain": [
       "17.0"
      ]
     },
     "execution_count": 15,
     "metadata": {},
     "output_type": "execute_result"
    }
   ],
   "source": [
    "# 找到数据记录的onset，即在记录之前，系统已经开始计数。\n",
    "# Since the example data comes from a Neuromag system that starts counting sample numbers before the recording begins,\n",
    "time_of_first_sample = raw.first_samp / raw.info['sfreq']\n",
    "time_of_first_sample"
   ]
  },
  {
   "cell_type": "code",
   "execution_count": 18,
   "metadata": {},
   "outputs": [
    {
     "name": "stdout",
     "output_type": "stream",
     "text": [
      "2017-03-02 03:14:24.980120\n"
     ]
    }
   ],
   "source": [
    "time_format = '%Y-%m-%d %H:%M:%S.%f'\n",
    "new_orig_time = (meas_date + timedelta(seconds=0)).strftime(time_format)\n",
    "print(new_orig_time)"
   ]
  },
  {
   "cell_type": "code",
   "execution_count": 19,
   "metadata": {},
   "outputs": [
    {
     "name": "stdout",
     "output_type": "stream",
     "text": [
      "onsets: [ 31.776  47.46   54.931  70.108  73.344  79.611  80.236  85.68   94.239\n",
      " 134.053 140.842 144.538 147.146 167.797 172.164 216.576 225.526 243.993\n",
      " 288.569 303.788 405.105]\n",
      "<Annotations | 21 segments: spike (21)>\n",
      "[ 31.776  47.46   54.931  70.108  73.344  79.611  80.236  85.68   94.239\n",
      " 134.053 140.842 144.538 147.146 167.797 172.164 216.576 225.526 243.993\n",
      " 288.569 303.788 405.105]\n",
      "[ 31.776  47.46   54.931  70.108  73.344  79.611  80.236  85.68   94.239\n",
      " 134.053 140.842 144.538 147.146 167.797 172.164 216.576 225.526 243.993\n",
      " 288.569 303.788 405.105]\n"
     ]
    }
   ],
   "source": [
    "# later_annot = mne.Annotations(onset=[3, 5, 7],\n",
    "#                               duration=[1, 0.5, 0.25],\n",
    "#                               description=['DDD', 'EEE', 'FFF'],\n",
    "#                               orig_time=new_orig_time)\n",
    "\n",
    "onsets = (onset - 150)/sfreq\n",
    "duration = [0.3] * len(onset)\n",
    "print(\"onsets:\",onsets)\n",
    "spike_event_name = ['spike'] * len(onset)\n",
    "spike_annot = mne.Annotations(onset=onsets,\n",
    "                           duration=duration,\n",
    "                           description=spike_event_name,\n",
    "                           orig_time=new_orig_time)\n",
    "print(spike_annot)\n",
    "raw2 = raw.copy().set_annotations(spike_annot)\n",
    "print(spike_annot.onset)\n",
    "print(raw2.annotations.onset)"
   ]
  },
  {
   "cell_type": "code",
   "execution_count": 20,
   "metadata": {},
   "outputs": [
    {
     "name": "stdout",
     "output_type": "stream",
     "text": [
      "Writing /Volumes/Lexar/MEG/MEG2224_li_yi_20170302_EP_4_tsss_spike_annot.fif\n"
     ]
    },
    {
     "name": "stderr",
     "output_type": "stream",
     "text": [
      "<ipython-input-20-bbd1fecfd0a6>:1: RuntimeWarning: This filename (/Volumes/Lexar/MEG/MEG2224_li_yi_20170302_EP_4_tsss_spike_annot.fif) does not conform to MNE naming conventions. All raw files should end with raw.fif, raw_sss.fif, raw_tsss.fif, raw.fif.gz, raw_sss.fif.gz, raw_tsss.fif.gz or _meg.fif\n",
      "  raw2.save('/Volumes/Lexar/MEG/MEG2224_li_yi_20170302_EP_4_tsss_spike_annot.fif',overwrite=True)\n"
     ]
    },
    {
     "name": "stdout",
     "output_type": "stream",
     "text": [
      "Closing /Volumes/Lexar/MEG/MEG2224_li_yi_20170302_EP_4_tsss_spike_annot.fif\n",
      "[done]\n",
      "Opening raw data file /Volumes/Lexar/MEG/MEG2224_li_yi_20170302_EP_4_tsss_spike_annot.fif...\n",
      "    Range : 17000 ... 496999 =     17.000 ...   496.999 secs\n",
      "Ready.\n"
     ]
    },
    {
     "name": "stderr",
     "output_type": "stream",
     "text": [
      "<ipython-input-20-bbd1fecfd0a6>:2: RuntimeWarning: This filename (/Volumes/Lexar/MEG/MEG2224_li_yi_20170302_EP_4_tsss_spike_annot.fif) does not conform to MNE naming conventions. All raw files should end with raw.fif, raw_sss.fif, raw_tsss.fif, raw.fif.gz, raw_sss.fif.gz, raw_tsss.fif.gz or _meg.fif\n",
      "  raw_eve = read_raw_fif(\"/Volumes/Lexar/MEG/MEG2224_li_yi_20170302_EP_4_tsss_spike_annot.fif\")\n"
     ]
    }
   ],
   "source": [
    "raw2.save('/Volumes/Lexar/MEG/MEG2224_li_yi_20170302_EP_4_tsss_spike_annot.fif',overwrite=True)\n",
    "raw_eve = read_raw_fif(\"/Volumes/Lexar/MEG/MEG2224_li_yi_20170302_EP_4_tsss_spike_annot.fif\")"
   ]
  },
  {
   "cell_type": "code",
   "execution_count": 145,
   "metadata": {},
   "outputs": [
    {
     "data": {
      "image/png": "[encoded data removed]",
      "text/plain": [
       "<Figure size 617.04x449.28 with 4 Axes>"
      ]
     },
     "metadata": {},
     "output_type": "display_data"
    }
   ],
   "source": [
    "raw_eve.plot(start=30, duration=6);"
   ]
  },
  {
   "cell_type": "code",
   "execution_count": 140,
   "metadata": {},
   "outputs": [
    {
     "data": {
      "text/plain": [
       "array([ 31.775999,  47.459999,  54.931   ,  73.344002,  94.238998,\n",
       "       134.052994])"
      ]
     },
     "execution_count": 140,
     "metadata": {},
     "output_type": "execute_result"
    }
   ],
   "source": [
    "raw_eve.annotations.onset"
   ]
  },
  {
   "cell_type": "code",
   "execution_count": 49,
   "metadata": {},
   "outputs": [
    {
     "name": "stdout",
     "output_type": "stream",
     "text": [
      "Extracting EDF parameters from /Users/reallo/Downloads/eeg-test/sub-001/sess/eeg/sub-001_task-P300_run-01_eeg.bdf...\n",
      "BDF file detected\n",
      "Setting channel info structure...\n",
      "Creating raw.info structure...\n",
      "Reading 0 ... 194047  =      0.000 ...   757.996 secs...\n"
     ]
    },
    {
     "data": {
      "text/plain": [
       "<Info | 7 non-empty values\n",
       " bads: []\n",
       " ch_names: Fp1, AF7, AF3, F1, F3, F5, F7, FT7, FC5, FC3, FC1, C1, C3, C5, ...\n",
       " chs: 79 EEG, 1 STIM\n",
       " custom_ref_applied: False\n",
       " highpass: 0.0 Hz\n",
       " lowpass: 52.0 Hz\n",
       " meas_date: 2011-08-12 15:47:56 UTC\n",
       " nchan: 80\n",
       " projs: []\n",
       " sfreq: 256.0 Hz\n",
       ">"
      ]
     },
     "execution_count": 49,
     "metadata": {},
     "output_type": "execute_result"
    }
   ],
   "source": [
    "# P300 event\n",
    "eeg_raw = mne.io.read_raw_bdf(\"/Users/reallo/Downloads/eeg-test/sub-001/sess/eeg/sub-001_task-P300_run-01_eeg.bdf\",preload=True)\n",
    "eeg_raw.info"
   ]
  },
  {
   "cell_type": "code",
   "execution_count": 50,
   "metadata": {},
   "outputs": [
    {
     "data": {
      "text/plain": [
       "['Fp1',\n",
       " 'AF7',\n",
       " 'AF3',\n",
       " 'F1',\n",
       " 'F3',\n",
       " 'F5',\n",
       " 'F7',\n",
       " 'FT7',\n",
       " 'FC5',\n",
       " 'FC3',\n",
       " 'FC1',\n",
       " 'C1',\n",
       " 'C3',\n",
       " 'C5',\n",
       " 'T7',\n",
       " 'TP7',\n",
       " 'CP5',\n",
       " 'CP3',\n",
       " 'CP1',\n",
       " 'P1',\n",
       " 'P3',\n",
       " 'P5',\n",
       " 'P7',\n",
       " 'P9',\n",
       " 'PO7',\n",
       " 'PO3',\n",
       " 'O1',\n",
       " 'Iz',\n",
       " 'Oz',\n",
       " 'POz',\n",
       " 'Pz',\n",
       " 'CPz',\n",
       " 'Fpz',\n",
       " 'Fp2',\n",
       " 'AF8',\n",
       " 'AF4',\n",
       " 'AFz',\n",
       " 'Fz',\n",
       " 'F2',\n",
       " 'F4',\n",
       " 'F6',\n",
       " 'F8',\n",
       " 'FT8',\n",
       " 'FC6',\n",
       " 'FC4',\n",
       " 'FC2',\n",
       " 'FCz',\n",
       " 'Cz',\n",
       " 'C2',\n",
       " 'C4',\n",
       " 'C6',\n",
       " 'T8',\n",
       " 'TP8',\n",
       " 'CP6',\n",
       " 'CP4',\n",
       " 'CP2',\n",
       " 'P2',\n",
       " 'P4',\n",
       " 'P6',\n",
       " 'P8',\n",
       " 'P10',\n",
       " 'PO8',\n",
       " 'PO4',\n",
       " 'O2',\n",
       " 'EXG1',\n",
       " 'EXG2',\n",
       " 'EXG3',\n",
       " 'EXG4',\n",
       " 'EXG5',\n",
       " 'EXG6',\n",
       " 'EXG7',\n",
       " 'EXG8',\n",
       " 'GSR1',\n",
       " 'GSR2',\n",
       " 'Erg1',\n",
       " 'Erg2',\n",
       " 'Resp',\n",
       " 'Plet',\n",
       " 'Temp',\n",
       " 'Status']"
      ]
     },
     "execution_count": 50,
     "metadata": {},
     "output_type": "execute_result"
    }
   ],
   "source": [
    "eeg_raw.info['ch_names']"
   ]
  },
  {
   "cell_type": "code",
   "execution_count": 5,
   "metadata": {},
   "outputs": [
    {
     "data": {
      "text/plain": [
       "256.0"
      ]
     },
     "execution_count": 5,
     "metadata": {},
     "output_type": "execute_result"
    }
   ],
   "source": [
    "sfreq = eeg_raw.info['sfreq']\n",
    "sfreq"
   ]
  },
  {
   "cell_type": "code",
   "execution_count": 23,
   "metadata": {},
   "outputs": [
    {
     "name": "stdout",
     "output_type": "stream",
     "text": [
      "Trigger channel has a non-zero initial value of 65536 (consider using initial_event=True to detect this event)\n",
      "Removing orphaned offset at the beginning of the file.\n",
      "863 events found\n",
      "Event IDs: [1 2 3 4 8]\n"
     ]
    },
    {
     "data": {
      "text/plain": [
       "array([[  1139,      0,      2],\n",
       "       [  1346,      0,      2],\n",
       "       [  1604,      0,      2],\n",
       "       ...,\n",
       "       [193483,      0,      1],\n",
       "       [193644,      0,      2],\n",
       "       [193897,      0,      2]])"
      ]
     },
     "execution_count": 23,
     "metadata": {},
     "output_type": "execute_result"
    }
   ],
   "source": [
    "# # extract the events array from the stim channel\n",
    "events = mne.find_events(eeg_raw)\n",
    "events"
   ]
  },
  {
   "cell_type": "code",
   "execution_count": 37,
   "metadata": {},
   "outputs": [
    {
     "name": "stdout",
     "output_type": "stream",
     "text": [
      "[ 4.449  5.258  6.266  7.328  8.352  9.273 10.27  11.312 12.34  13.359]\n",
      "[0 0 0 0 0 0 0 0 0 0]\n",
      "[2 2 2 2 2 2 2 2 2 2]\n"
     ]
    }
   ],
   "source": [
    "# 脑电数据\n",
    "evt_onset = np.around(events[:,0]/sfreq,decimals=3)\n",
    "print(evt_onset[:10])\n",
    "\n",
    "evt_duration = events[:,1]\n",
    "print(evt_duration[:10])\n",
    "\n",
    "evt_type = events[:,2]\n",
    "print(evt_type[:10])"
   ]
  },
  {
   "cell_type": "code",
   "execution_count": 56,
   "metadata": {},
   "outputs": [
    {
     "name": "stdout",
     "output_type": "stream",
     "text": [
      "Opening raw data file /Users/reallo/Downloads/MEG2224_Li_yi_20170302_EP_1.fif...\n",
      "    Read a total of 7 projection items:\n",
      "        mag_ssp_supine.fif : PCA-v1 (1 x 306)  idle\n",
      "        mag_ssp_supine.fif : PCA-v2 (1 x 306)  idle\n",
      "        mag_ssp_supine.fif : PCA-v3 (1 x 306)  idle\n",
      "        mag_ssp_supine.fif : PCA-v4 (1 x 306)  idle\n",
      "        mag_ssp_supine.fif : PCA-v5 (1 x 306)  idle\n",
      "        grad_ssp_supine.fif : PCA-v1 (1 x 306)  idle\n",
      "        grad_ssp_supine.fif : PCA-v2 (1 x 306)  idle\n",
      "    Range : 18000 ... 501999 =     18.000 ...   501.999 secs\n",
      "Ready.\n",
      "Reading 0 ... 483999  =      0.000 ...   483.999 secs...\n"
     ]
    },
    {
     "name": "stderr",
     "output_type": "stream",
     "text": [
      "<ipython-input-56-8123e375dfe3>:2: RuntimeWarning: This filename (/Users/reallo/Downloads/MEG2224_Li_yi_20170302_EP_1.fif) does not conform to MNE naming conventions. All raw files should end with raw.fif, raw_sss.fif, raw_tsss.fif, raw.fif.gz, raw_sss.fif.gz, raw_tsss.fif.gz or _meg.fif\n",
      "  meg_raw = mne.io.read_raw_fif(\"/Users/reallo/Downloads/MEG2224_Li_yi_20170302_EP_1.fif\",preload=True)\n"
     ]
    },
    {
     "name": "stdout",
     "output_type": "stream",
     "text": [
      "11610 events found\n",
      "Event IDs: [1 2 3 4 5 6 7 8 9]\n",
      "[0.027 0.045 0.064 0.083 0.102 0.12  0.139 0.158 0.177 0.402 0.42  0.439\n",
      " 0.458 0.477 0.496 0.514 0.533 0.552 0.777 0.796]\n",
      "[0 1 2 3 4 5 6 7 8 0 1 2 3 4 5 6 7 8 0 1]\n",
      "[1 2 3 4 5 6 7 8 9 1 2 3 4 5 6 7 8 9 1 2]\n"
     ]
    },
    {
     "name": "stderr",
     "output_type": "stream",
     "text": [
      "<ipython-input-56-8123e375dfe3>:5: RuntimeWarning: Trigger channel contains negative values, using absolute value. If data were acquired on a Neuromag system with STI016 active, consider using uint_cast=True to work around an acquisition bug\n",
      "  events = mne.find_events(meg_raw,stim_channel=['STI101','STI201','STI301']) # 脑磁图事件通道名称：'STI101' 'STI201' 'STI301'\n"
     ]
    }
   ],
   "source": [
    "# 脑磁数据\n",
    "meg_raw = mne.io.read_raw_fif(\"/Users/reallo/Downloads/MEG2224_Li_yi_20170302_EP_1.fif\",preload=True)\n",
    "meg_raw.info\n",
    "sfreq = meg_raw.info['sfreq']\n",
    "events = mne.find_events(meg_raw,stim_channel=['STI101','STI201','STI301']) # 脑磁图事件通道名称：'STI101' 'STI201' 'STI301'\n",
    "evt_onset = np.around((events[:, 0] - meg_raw.first_samp) / meg_raw.info['sfreq'],decimals=3) #剔除first_samp的数据（即未记录的前几秒脑磁数据被去掉）；\n",
    "print(evt_onset[:20])\n",
    "\n",
    "evt_duration = events[:,1]\n",
    "print(evt_duration[:20])\n",
    "\n",
    "evt_type = events[:,2]\n",
    "print(evt_type[:20])\n",
    "\n"
   ]
  },
  {
   "cell_type": "code",
   "execution_count": 52,
   "metadata": {},
   "outputs": [
    {
     "data": {
      "text/plain": [
       "array([ 18027,  18045,  18064, ..., 501740, 501758, 501777])"
      ]
     },
     "execution_count": 52,
     "metadata": {},
     "output_type": "execute_result"
    }
   ],
   "source": [
    "events[:, 0]"
   ]
  },
  {
   "cell_type": "code",
   "execution_count": 44,
   "metadata": {},
   "outputs": [
    {
     "data": {
      "text/plain": [
       "array([], dtype=int32)"
      ]
     },
     "execution_count": 44,
     "metadata": {},
     "output_type": "execute_result"
    }
   ],
   "source": [
    "evt_type"
   ]
  },
  {
   "cell_type": "code",
   "execution_count": null,
   "metadata": {},
   "outputs": [],
   "source": []
  }
 ],
 "metadata": {
  "kernelspec": {
   "display_name": "Python 3",
   "language": "python",
   "name": "python3"
  },
  "language_info": {
   "codemirror_mode": {
    "name": "ipython",
    "version": 3
   },
   "file_extension": ".py",
   "mimetype": "text/x-python",
   "name": "python",
   "nbconvert_exporter": "python",
   "pygments_lexer": "ipython3",
   "version": "3.8.5"
  }
 },
 "nbformat": 4,
 "nbformat_minor": 4
}
