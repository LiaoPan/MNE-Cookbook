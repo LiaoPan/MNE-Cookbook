{
 "cells": [
  {
   "cell_type": "code",
   "execution_count": null,
   "metadata": {},
   "outputs": [],
   "source": []
  },
  {
   "cell_type": "code",
   "execution_count": null,
   "metadata": {},
   "outputs": [],
   "source": [
    "import mne\n",
    "from mne import fit_dipole"
   ]
  },
  {
   "cell_type": "code",
   "execution_count": null,
   "metadata": {},
   "outputs": [],
   "source": [
    "dip_freq = 23.\n",
    "tmin = -0.5 / dip_freq\n",
    "tmax = -tmin\n",
    "epochs = mne.Epochs(raw, events, event_id=1, tmin=tmin, tmax=tmax,\n",
    "                    baseline=(None, None))\n",
    "evoked = epochs.average()\n",
    "evoked.plot(time_unit='s')\n",
    "evoked.crop(0., 0.)"
   ]
  },
  {
   "cell_type": "code",
   "execution_count": null,
   "metadata": {},
   "outputs": [],
   "source": [
    "#To do a dipole fit, let’s use the covariance provided by the empty room recording.\n",
    "raw_erm = read_raw_ctf(erm_path).apply_gradient_compensation(0)\n",
    "raw_erm = mne.preprocessing.maxwell_filter(raw_erm, coord_frame='meg',\n",
    "                                           **mf_kwargs)\n",
    "cov = mne.compute_raw_covariance(raw_erm)\n",
    "del raw_erm\n",
    "\n",
    "dip, residual = fit_dipole(evoked, cov, sphere, verbose=True)"
   ]
  },
  {
   "cell_type": "markdown",
   "metadata": {},
   "source": [
    "https://mne.tools/stable/auto_tutorials/sample-datasets/plot_brainstorm_phantom_ctf.html#sphx-glr-auto-tutorials-sample-datasets-plot-brainstorm-phantom-ctf-py"
   ]
  }
 ],
 "metadata": {
  "kernelspec": {
   "display_name": "Python 3",
   "language": "python",
   "name": "python3"
  },
  "language_info": {
   "codemirror_mode": {
    "name": "ipython",
    "version": 3
   },
   "file_extension": ".py",
   "mimetype": "text/x-python",
   "name": "python",
   "nbconvert_exporter": "python",
   "pygments_lexer": "ipython3",
   "version": "3.8.5"
  }
 },
 "nbformat": 4,
 "nbformat_minor": 4
}
