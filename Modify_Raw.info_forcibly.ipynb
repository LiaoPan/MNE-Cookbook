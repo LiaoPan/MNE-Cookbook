{
 "cells": [
  {
   "cell_type": "markdown",
   "id": "870d7857-bbbf-4596-afd8-ed9065d08f4a",
   "metadata": {},
   "source": [
    "## 强制修改MNE.Raw.info中不让修改的变量(一般情况下可以修改)\n",
    "The only entries that should be manually changed by the user are: info['bads'], info['description'], info['device_info'] info['dev_head_t'], info['experimenter'], info['helium_info'], info['line_freq'], info['temp'], and info['subject_info'].\n",
    "\n",
    "All other entries should be considered read-only, though they can be modified by various MNE-Python functions or methods (which have safeguards to ensure all fields remain in sync).\n",
    "\n",
    "https://mne.tools/stable/generated/mne.Info.html "
   ]
  },
  {
   "cell_type": "code",
   "execution_count": null,
   "id": "81e32105-2098-4f50-b1b1-377b26ce99bf",
   "metadata": {},
   "outputs": [],
   "source": [
    "# Pseudocode\n",
    "import mne\n",
    "\n",
    "info = mne.create_info(\n",
    "    ch_names=ch_names,\n",
    "    ch_types=ch_types,\n",
    "    sfreq=sample_rate \n",
    ")\n",
    "\n",
    "# set other MNE Raw Info.\n",
    "info._unlocked = True\n",
    "\n",
    "info['chs'] = positions # modify somthing...\n",
    "\n",
    "info._unlocked = False\n"
   ]
  },
  {
   "cell_type": "code",
   "execution_count": null,
   "id": "70456a9b-f8fb-4650-b9f3-b8ed06136d12",
   "metadata": {},
   "outputs": [],
   "source": []
  }
 ],
 "metadata": {
  "kernelspec": {
   "display_name": "Python 3 (ipykernel)",
   "language": "python",
   "name": "python3"
  },
  "language_info": {
   "codemirror_mode": {
    "name": "ipython",
    "version": 3
   },
   "file_extension": ".py",
   "mimetype": "text/x-python",
   "name": "python",
   "nbconvert_exporter": "python",
   "pygments_lexer": "ipython3",
   "version": "3.11.4"
  }
 },
 "nbformat": 4,
 "nbformat_minor": 5
}
