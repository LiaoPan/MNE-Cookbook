{
 "cells": [
  {
   "cell_type": "code",
   "execution_count": 2,
   "metadata": {},
   "outputs": [],
   "source": [
    "import mne\n",
    "import numpy as np\n",
    "import matplotlib.pyplot as plt"
   ]
  },
  {
   "cell_type": "code",
   "execution_count": 110,
   "metadata": {},
   "outputs": [
    {
     "name": "stdout",
     "output_type": "stream",
     "text": [
      "Extracting EDF parameters from /Users/reallo/Downloads/eeg-test/sub-001/sess/eeg/sub-001_task-P300_run-01_eeg.bdf...\n",
      "BDF file detected\n",
      "Setting channel info structure...\n",
      "Creating raw.info structure...\n",
      "Reading 0 ... 194047  =      0.000 ...   757.996 secs...\n"
     ]
    }
   ],
   "source": [
    "# load eeg data\n",
    "eeg_raw = mne.io.read_raw_bdf(\"/Users/reallo/Downloads/eeg-test/sub-001/sess/eeg/sub-001_task-P300_run-01_eeg.bdf\",preload=True)\n"
   ]
  },
  {
   "cell_type": "code",
   "execution_count": 131,
   "metadata": {},
   "outputs": [
    {
     "name": "stdout",
     "output_type": "stream",
     "text": [
      "[1.e-06 1.e-06 1.e-06 1.e-06 1.e-06 1.e-06 1.e-06 1.e-06 1.e-06 1.e-06\n",
      " 1.e-06 1.e-06 1.e-06 1.e-06 1.e-06 1.e-06 1.e-06 1.e-06 1.e-06 1.e-06\n",
      " 1.e-06 1.e-06 1.e-06 1.e-06 1.e-06 1.e-06 1.e-06 1.e-06 1.e-06 1.e-06\n",
      " 1.e-06 1.e-06 1.e-06 1.e-06 1.e-06 1.e-06 1.e-06 1.e-06 1.e-06 1.e-06\n",
      " 1.e-06 1.e-06 1.e-06 1.e-06 1.e-06 1.e-06 1.e-06 1.e-06 1.e-06 1.e-06\n",
      " 1.e-06 1.e-06 1.e-06 1.e-06 1.e-06 1.e-06 1.e-06 1.e-06 1.e-06 1.e-06\n",
      " 1.e-06 1.e-06 1.e-06 1.e-06 1.e-06 1.e-06 1.e-06 1.e-06 1.e-06 1.e-06\n",
      " 1.e-06 1.e-06 1.e+00 1.e+00 1.e-06 1.e-06 1.e-06 1.e-06 1.e+00 1.e+00]\n",
      "['Fp1', 'AF7', 'AF3', 'F1', 'F3', 'F5', 'F7', 'FT7', 'FC5', 'FC3', 'FC1', 'C1', 'C3', 'C5', 'T7', 'TP7', 'CP5', 'CP3', 'CP1', 'P1', 'P3', 'P5', 'P7', 'P9', 'PO7', 'PO3', 'O1', 'Iz', 'Oz', 'POz', 'Pz', 'CPz', 'Fpz', 'Fp2', 'AF8', 'AF4', 'AFz', 'Fz', 'F2', 'F4', 'F6', 'F8', 'FT8', 'FC6', 'FC4', 'FC2', 'FCz', 'Cz', 'C2', 'C4', 'C6', 'T8', 'TP8', 'CP6', 'CP4', 'CP2', 'P2', 'P4', 'P6', 'P8', 'P10', 'PO8', 'PO4', 'O2', 'EXG1', 'EXG2', 'EXG3', 'EXG4', 'EXG5', 'EXG6', 'EXG7', 'EXG8', 'GSR1', 'GSR2', 'Erg1', 'Erg2', 'Resp', 'Plet', 'Temp', 'Status']\n",
      "[3.12499423e-02 3.12499423e-02 3.12499423e-02 3.12499423e-02\n",
      " 3.12499423e-02 3.12499423e-02 3.12499423e-02 3.12499423e-02\n",
      " 3.12499423e-02 3.12499423e-02 3.12499423e-02 3.12499423e-02\n",
      " 3.12499423e-02 3.12499423e-02 3.12499423e-02 3.12499423e-02\n",
      " 3.12499423e-02 3.12499423e-02 3.12499423e-02 3.12499423e-02\n",
      " 3.12499423e-02 3.12499423e-02 3.12499423e-02 3.12499423e-02\n",
      " 3.12499423e-02 3.12499423e-02 3.12499423e-02 3.12499423e-02\n",
      " 3.12499423e-02 3.12499423e-02 3.12499423e-02 3.12499423e-02\n",
      " 3.12499423e-02 3.12499423e-02 3.12499423e-02 3.12499423e-02\n",
      " 3.12499423e-02 3.12499423e-02 3.12499423e-02 3.12499423e-02\n",
      " 3.12499423e-02 3.12499423e-02 3.12499423e-02 3.12499423e-02\n",
      " 3.12499423e-02 3.12499423e-02 3.12499423e-02 3.12499423e-02\n",
      " 3.12499423e-02 3.12499423e-02 3.12499423e-02 3.12499423e-02\n",
      " 3.12499423e-02 3.12499423e-02 3.12499423e-02 3.12499423e-02\n",
      " 3.12499423e-02 3.12499423e-02 3.12499423e-02 3.12499423e-02\n",
      " 3.12499423e-02 3.12499423e-02 3.12499423e-02 3.12499423e-02\n",
      " 3.12499423e-02 3.12499423e-02 3.12499423e-02 3.12499423e-02\n",
      " 3.12499423e-02 3.12499423e-02 3.12499423e-02 3.12499423e-02\n",
      " 3.12499423e-02 3.12499423e-02 2.49999955e-01 2.49999955e-01\n",
      " 3.12499423e-02 4.88273829e-01 9.99987185e-04 1.00000000e+00]\n",
      "[ -0.48437503  -0.48437503  -0.48437503  -0.48437503  -0.48437503\n",
      "  -0.48437503  -0.48437503  -0.48437503  -0.48437503  -0.48437503\n",
      "  -0.48437503  -0.48437503  -0.48437503  -0.48437503  -0.48437503\n",
      "  -0.48437503  -0.48437503  -0.48437503  -0.48437503  -0.48437503\n",
      "  -0.48437503  -0.48437503  -0.48437503  -0.48437503  -0.48437503\n",
      "  -0.48437503  -0.48437503  -0.48437503  -0.48437503  -0.48437503\n",
      "  -0.48437503  -0.48437503  -0.48437503  -0.48437503  -0.48437503\n",
      "  -0.48437503  -0.48437503  -0.48437503  -0.48437503  -0.48437503\n",
      "  -0.48437503  -0.48437503  -0.48437503  -0.48437503  -0.48437503\n",
      "  -0.48437503  -0.48437503  -0.48437503  -0.48437503  -0.48437503\n",
      "  -0.48437503  -0.48437503  -0.48437503  -0.48437503  -0.48437503\n",
      "  -0.48437503  -0.48437503  -0.48437503  -0.48437503  -0.48437503\n",
      "  -0.48437503  -0.48437503  -0.48437503  -0.48437503  -0.48437503\n",
      "  -0.48437503  -0.48437503  -0.48437503  -0.48437503  -0.48437503\n",
      "  -0.48437503  -0.48437503  -0.48437503  -0.48437503  -0.37500002\n",
      "  -0.37500002  -0.48437503 -62.25586309  -0.49950001   0.        ]\n"
     ]
    }
   ],
   "source": [
    "print(eeg_raw._raw_extras[0]['units'])\n",
    "print(eeg_raw._raw_extras[0]['ch_names'])\n",
    "print(eeg_raw._raw_extras[0]['cal'])\n",
    "cal = eeg_raw._raw_extras[0]['cal']\n",
    "offsets = eeg_raw._raw_extras[0]['offsets']\n",
    "print(eeg_raw._raw_extras[0]['offsets'])"
   ]
  },
  {
   "cell_type": "code",
   "execution_count": 112,
   "metadata": {},
   "outputs": [
    {
     "name": "stdout",
     "output_type": "stream",
     "text": [
      "{'Fp1': 'µV', 'AF7': 'µV', 'AF3': 'µV', 'F1': 'µV', 'F3': 'µV', 'F5': 'µV', 'F7': 'µV', 'FT7': 'µV', 'FC5': 'µV', 'FC3': 'µV', 'FC1': 'µV', 'C1': 'µV', 'C3': 'µV', 'C5': 'µV', 'T7': 'µV', 'TP7': 'µV', 'CP5': 'µV', 'CP3': 'µV', 'CP1': 'µV', 'P1': 'µV', 'P3': 'µV', 'P5': 'µV', 'P7': 'µV', 'P9': 'µV', 'PO7': 'µV', 'PO3': 'µV', 'O1': 'µV', 'Iz': 'µV', 'Oz': 'µV', 'POz': 'µV', 'Pz': 'µV', 'CPz': 'µV', 'Fpz': 'µV', 'Fp2': 'µV', 'AF8': 'µV', 'AF4': 'µV', 'AFz': 'µV', 'Fz': 'µV', 'F2': 'µV', 'F4': 'µV', 'F6': 'µV', 'F8': 'µV', 'FT8': 'µV', 'FC6': 'µV', 'FC4': 'µV', 'FC2': 'µV', 'FCz': 'µV', 'Cz': 'µV', 'C2': 'µV', 'C4': 'µV', 'C6': 'µV', 'T8': 'µV', 'TP8': 'µV', 'CP6': 'µV', 'CP4': 'µV', 'CP2': 'µV', 'P2': 'µV', 'P4': 'µV', 'P6': 'µV', 'P8': 'µV', 'P10': 'µV', 'PO8': 'µV', 'PO4': 'µV', 'O2': 'µV', 'EXG1': 'µV', 'EXG2': 'µV', 'EXG3': 'µV', 'EXG4': 'µV', 'EXG5': 'µV', 'EXG6': 'µV', 'EXG7': 'µV', 'EXG8': 'µV', 'GSR1': 'nS', 'GSR2': 'nS', 'Erg1': 'µV', 'Erg2': 'µV', 'Resp': 'µV', 'Plet': 'µV', 'Temp': 'n/a', 'Status': 'n/a'}\n"
     ]
    }
   ],
   "source": [
    "print(eeg_raw._orig_units)"
   ]
  },
  {
   "cell_type": "code",
   "execution_count": 133,
   "metadata": {},
   "outputs": [
    {
     "name": "stdout",
     "output_type": "stream",
     "text": [
      "78753.6425786198\n",
      "79789.73185584624\n",
      "78428.57832221015\n"
     ]
    }
   ],
   "source": [
    "data = eeg_raw.copy().pick_channels(['C5'])\n",
    "data = data.get_data() * 1.e06  #V -> uV\n",
    "\n",
    "print(np.sum(np.abs(data))/data.size)\n",
    "print(np.max(data))\n",
    "print(np.min(data))"
   ]
  },
  {
   "cell_type": "code",
   "execution_count": 129,
   "metadata": {},
   "outputs": [
    {
     "name": "stdout",
     "output_type": "stream",
     "text": [
      "EEG channel type selected for re-referencing\n",
      "Applying average reference.\n",
      "Applying a custom EEG reference.\n",
      "averge: 0.6344314729542563\n",
      "65536.0\n",
      "-3.9769603739973842\n",
      "0.490338730623351\n"
     ]
    }
   ],
   "source": [
    "# cathnode = ['F7','T7','P7','O1','F3','C3','P3','O1'] #  负\n",
    "# anode= ['Fp1','F7','T7','P7','Fp1','F3','C3','P3'] # 正\n",
    "\n",
    "# bi_raw = mne.set_bipolar_reference(eeg_raw,anode,cathnode,verbose=True)\n",
    "# pick_chans = ['P7-O1']\n",
    "# data = bi_raw.copy().pick_channels(pick_chans)\n",
    "\n",
    "eeg_raw.set_eeg_reference(ref_channels='average',verbose=True)\n",
    "data = (eeg_raw.get_data()) #V -> uV\n",
    "print('averge:',np.sum(np.abs(data))/data.size)\n",
    "print(np.max(data))\n",
    "print(np.min(data))\n",
    "print(np.mean(data))"
   ]
  },
  {
   "cell_type": "code",
   "execution_count": 108,
   "metadata": {},
   "outputs": [
    {
     "name": "stdout",
     "output_type": "stream",
     "text": [
      "Extracting EDF parameters from /Users/reallo/Downloads/unit_testing.edf...\n",
      "EDF file detected\n",
      "Setting channel info structure...\n",
      "Creating raw.info structure...\n",
      "Reading 0 ... 511  =      0.000 ...     0.998 secs...\n",
      "4.592232925442803e-05\n",
      "{'cal': 1.0, 'logno': 1, 'scanno': 1, 'range': 1.0, 'unit_mul': 0 (FIFF_UNITM_NONE), 'ch_name': 'C3', 'unit': 107 (FIFF_UNIT_V), 'coord_frame': 4 (FIFFV_COORD_HEAD), 'coil_type': 1 (FIFFV_COIL_EEG), 'kind': 2 (FIFFV_EEG_CH), 'loc': array([0., 0., 0., 0., 0., 0., 0., 0., 0., 0., 0., 0.])}\n",
      "4.561217371195812e-05\n",
      "-0.000160155597833533\n"
     ]
    }
   ],
   "source": [
    "# load eeg data\n",
    "eeg_raw = mne.io.read_raw_edf(\"/Users/reallo/Downloads/unit_testing.edf\",preload=True)\n",
    "data = eeg_raw.copy().pick_channels(['C3']).get_data()\n",
    "print(np.sum(np.abs(data))/data.size)\n",
    "print(eeg_raw.info['chs'][0])\n",
    "print(np.max(data))\n",
    "print(np.min(data))"
   ]
  },
  {
   "cell_type": "code",
   "execution_count": 82,
   "metadata": {},
   "outputs": [
    {
     "name": "stdout",
     "output_type": "stream",
     "text": [
      "[1.e-03 1.e-03 1.e-03 1.e-03 1.e-03 1.e-03 1.e-06 1.e-06 1.e-06 1.e-06\n",
      " 1.e-06 1.e-03 1.e-03 1.e-03 1.e-03 1.e-03 1.e-03 1.e-03 1.e+00 1.e+00\n",
      " 1.e+00 1.e+00 1.e+00 1.e+00 1.e+00 1.e+00]\n",
      "['C3', 'C4', 'M1', 'M2', 'LOC', 'ROC', 'ECG2', 'ECG1', 'EMG 1', 'EMG 2', 'EMG 3', 'L Leg', 'R Leg', 'AIRFLOW', 'THOR EFFORT', 'ABDO EFFORT', 'SNORE', 'SUM', 'POSITION', 'OX STATUS', 'PULSE', 'SpO2', 'NASAL PRES', 'PlethWV', 'Light', 'HRate']\n"
     ]
    }
   ],
   "source": [
    "print(eeg_raw._raw_extras[0]['units'])\n",
    "print(eeg_raw._raw_extras[0]['ch_names'])"
   ]
  },
  {
   "cell_type": "code",
   "execution_count": 68,
   "metadata": {},
   "outputs": [
    {
     "data": {
      "text/plain": [
       "{'C3': 'mV',\n",
       " 'C4': 'mV',\n",
       " 'M1': 'mV',\n",
       " 'M2': 'mV',\n",
       " 'LOC': 'mV',\n",
       " 'ROC': 'mV',\n",
       " 'ECG2': 'µV',\n",
       " 'ECG1': 'µV',\n",
       " 'EMG 1': 'µV',\n",
       " 'EMG 2': 'µV',\n",
       " 'EMG 3': 'µV',\n",
       " 'L Leg': 'mV',\n",
       " 'R Leg': 'mV',\n",
       " 'AIRFLOW': 'mV',\n",
       " 'THOR EFFORT': 'mV',\n",
       " 'ABDO EFFORT': 'mV',\n",
       " 'SNORE': 'mV',\n",
       " 'SUM': 'mV',\n",
       " 'POSITION': 'n/a',\n",
       " 'OX STATUS': 'n/a',\n",
       " 'PULSE': 'n/a',\n",
       " 'SpO2': 'n/a',\n",
       " 'NASAL PRES': 'V',\n",
       " 'PlethWV': 'V',\n",
       " 'Light': 'n/a',\n",
       " 'HRate': 'n/a'}"
      ]
     },
     "execution_count": 68,
     "metadata": {},
     "output_type": "execute_result"
    }
   ],
   "source": [
    "eeg_raw._orig_units"
   ]
  }
 ],
 "metadata": {
  "kernelspec": {
   "display_name": "Python 3",
   "language": "python",
   "name": "python3"
  },
  "language_info": {
   "codemirror_mode": {
    "name": "ipython",
    "version": 3
   },
   "file_extension": ".py",
   "mimetype": "text/x-python",
   "name": "python",
   "nbconvert_exporter": "python",
   "pygments_lexer": "ipython3",
   "version": "3.8.5"
  }
 },
 "nbformat": 4,
 "nbformat_minor": 4
}
