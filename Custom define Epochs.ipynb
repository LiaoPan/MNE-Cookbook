{
 "cells": [
  {
   "cell_type": "markdown",
   "metadata": {},
   "source": [
    "### Custom Define New Epochs Object"
   ]
  },
  {
   "cell_type": "code",
   "execution_count": 1,
   "metadata": {},
   "outputs": [],
   "source": [
    "import numpy as np\n",
    "from matplotlib import pyplot as plt\n",
    "from mne import create_info,EpochsArray"
   ]
  },
  {
   "cell_type": "markdown",
   "metadata": {},
   "source": [
    "### Simulate Data"
   ]
  },
  {
   "cell_type": "code",
   "execution_count": 2,
   "metadata": {},
   "outputs": [],
   "source": [
    "sfreq = 1000.0\n",
    "ch_names = ['SIM0001','SIM0002'] ## 命名模拟的通道名\n",
    "ch_types = ['grad','grad'] ## 定义对应通道的类型\n",
    "info = create_info(ch_names=ch_names,sfreq=sfreq,ch_types=ch_types)"
   ]
  },
  {
   "cell_type": "code",
   "execution_count": 3,
   "metadata": {},
   "outputs": [
    {
     "data": {
      "text/plain": [
       "<Info | 16 non-empty fields\n",
       "    bads : list | 0 items\n",
       "    ch_names : list | SIM0001, SIM0002\n",
       "    chs : list | 2 items (GRAD: 2)\n",
       "    comps : list | 0 items\n",
       "    custom_ref_applied : bool | False\n",
       "    dev_head_t : Transform | 3 items\n",
       "    events : list | 0 items\n",
       "    highpass : float | 0.0 Hz\n",
       "    hpi_meas : list | 0 items\n",
       "    hpi_results : list | 0 items\n",
       "    lowpass : float | 500.0 Hz\n",
       "    meas_date : NoneType | unspecified\n",
       "    nchan : int | 2\n",
       "    proc_history : list | 0 items\n",
       "    projs : list | 0 items\n",
       "    sfreq : float | 1000.0 Hz\n",
       "    acq_pars : NoneType\n",
       "    acq_stim : NoneType\n",
       "    ctf_head_t : NoneType\n",
       "    description : NoneType\n",
       "    dev_ctf_t : NoneType\n",
       "    dig : NoneType\n",
       "    experimenter : NoneType\n",
       "    file_id : NoneType\n",
       "    gantry_angle : NoneType\n",
       "    hpi_subsystem : NoneType\n",
       "    kit_system_id : NoneType\n",
       "    line_freq : NoneType\n",
       "    meas_id : NoneType\n",
       "    proj_id : NoneType\n",
       "    proj_name : NoneType\n",
       "    subject_info : NoneType\n",
       "    xplotter_layout : NoneType\n",
       ">"
      ]
     },
     "execution_count": 3,
     "metadata": {},
     "output_type": "execute_result"
    }
   ],
   "source": [
    "info"
   ]
  },
  {
   "cell_type": "code",
   "execution_count": 4,
   "metadata": {},
   "outputs": [],
   "source": [
    "n_times = 1024  # Just over 1 second epochs\n",
    "n_epochs = 40\n",
    "seed = 42\n",
    "rng = np.random.RandomState(seed)\n",
    "noise = rng.randn(n_epochs, len(ch_names), n_times)"
   ]
  },
  {
   "cell_type": "code",
   "execution_count": 7,
   "metadata": {},
   "outputs": [
    {
     "data": {
      "text/plain": [
       "(40, 2, 1024)"
      ]
     },
     "execution_count": 7,
     "metadata": {},
     "output_type": "execute_result"
    }
   ],
   "source": [
    "noise.shape"
   ]
  },
  {
   "cell_type": "code",
   "execution_count": 8,
   "metadata": {},
   "outputs": [],
   "source": [
    "# Add a 50 Hz sinusoidal burst to the noise and ramp it.\n",
    "t = np.arange(n_times, dtype=np.float) / sfreq\n",
    "signal = np.sin(np.pi * 2. * 50. * t)  # 50 Hz sinusoid signal\n",
    "signal[np.logical_or(t < 0.45, t > 0.55)] = 0.  # Hard windowing\n",
    "on_time = np.logical_and(t >= 0.45, t <= 0.55)\n",
    "signal[on_time] *= np.hanning(on_time.sum())  # Ramping\n",
    "data = noise + signal"
   ]
  },
  {
   "cell_type": "code",
   "execution_count": 13,
   "metadata": {},
   "outputs": [
    {
     "data": {
      "text/plain": [
       "(1024,)"
      ]
     },
     "execution_count": 13,
     "metadata": {},
     "output_type": "execute_result"
    }
   ],
   "source": [
    "signal.shape"
   ]
  },
  {
   "cell_type": "code",
   "execution_count": 14,
   "metadata": {},
   "outputs": [
    {
     "data": {
      "text/plain": [
       "array([False, False, False, ..., False, False, False], dtype=bool)"
      ]
     },
     "execution_count": 14,
     "metadata": {},
     "output_type": "execute_result"
    }
   ],
   "source": [
    "on_time"
   ]
  },
  {
   "cell_type": "code",
   "execution_count": 15,
   "metadata": {},
   "outputs": [],
   "source": [
    "reject = dict(grad=4000)\n",
    "events = np.empty((n_epochs, 3), dtype=int)\n",
    "first_event_sample = 100\n",
    "event_id = dict(sin50hz=1)\n",
    "for k in range(n_epochs):\n",
    "    events[k, :] = first_event_sample + k * n_times, 0, event_id['sin50hz']\n"
   ]
  },
  {
   "cell_type": "code",
   "execution_count": 16,
   "metadata": {},
   "outputs": [
    {
     "data": {
      "text/plain": [
       "{'sin50hz': 1}"
      ]
     },
     "execution_count": 16,
     "metadata": {},
     "output_type": "execute_result"
    }
   ],
   "source": [
    "event_id"
   ]
  },
  {
   "cell_type": "code",
   "execution_count": 17,
   "metadata": {},
   "outputs": [
    {
     "data": {
      "text/plain": [
       "array([[  100,     0,     1],\n",
       "       [ 1124,     0,     1],\n",
       "       [ 2148,     0,     1],\n",
       "       [ 3172,     0,     1],\n",
       "       [ 4196,     0,     1],\n",
       "       [ 5220,     0,     1],\n",
       "       [ 6244,     0,     1],\n",
       "       [ 7268,     0,     1],\n",
       "       [ 8292,     0,     1],\n",
       "       [ 9316,     0,     1],\n",
       "       [10340,     0,     1],\n",
       "       [11364,     0,     1],\n",
       "       [12388,     0,     1],\n",
       "       [13412,     0,     1],\n",
       "       [14436,     0,     1],\n",
       "       [15460,     0,     1],\n",
       "       [16484,     0,     1],\n",
       "       [17508,     0,     1],\n",
       "       [18532,     0,     1],\n",
       "       [19556,     0,     1],\n",
       "       [20580,     0,     1],\n",
       "       [21604,     0,     1],\n",
       "       [22628,     0,     1],\n",
       "       [23652,     0,     1],\n",
       "       [24676,     0,     1],\n",
       "       [25700,     0,     1],\n",
       "       [26724,     0,     1],\n",
       "       [27748,     0,     1],\n",
       "       [28772,     0,     1],\n",
       "       [29796,     0,     1],\n",
       "       [30820,     0,     1],\n",
       "       [31844,     0,     1],\n",
       "       [32868,     0,     1],\n",
       "       [33892,     0,     1],\n",
       "       [34916,     0,     1],\n",
       "       [35940,     0,     1],\n",
       "       [36964,     0,     1],\n",
       "       [37988,     0,     1],\n",
       "       [39012,     0,     1],\n",
       "       [40036,     0,     1]])"
      ]
     },
     "execution_count": 17,
     "metadata": {},
     "output_type": "execute_result"
    }
   ],
   "source": [
    "events"
   ]
  },
  {
   "cell_type": "code",
   "execution_count": 19,
   "metadata": {},
   "outputs": [
    {
     "name": "stdout",
     "output_type": "stream",
     "text": [
      "40 matching events found\n",
      "No baseline correction applied\n",
      "Not setting metadata\n",
      "0 projection items activated\n",
      "0 bad epochs dropped\n"
     ]
    }
   ],
   "source": [
    "epochs = EpochsArray(data=data,info=info,events=events,event_id=event_id,reject=reject)\n"
   ]
  },
  {
   "cell_type": "code",
   "execution_count": null,
   "metadata": {},
   "outputs": [],
   "source": []
  },
  {
   "cell_type": "markdown",
   "metadata": {},
   "source": [
    "### Reference\n",
    "- https://martinos.org/mne/stable/auto_examples/time_frequency/plot_time_frequency_simulated.html#sphx-glr-auto-examples-time-frequency-plot-time-frequency-simulated-py"
   ]
  }
 ],
 "metadata": {
  "kernelspec": {
   "display_name": "Python 3",
   "language": "python",
   "name": "python3"
  },
  "language_info": {
   "codemirror_mode": {
    "name": "ipython",
    "version": 3
   },
   "file_extension": ".py",
   "mimetype": "text/x-python",
   "name": "python",
   "nbconvert_exporter": "python",
   "pygments_lexer": "ipython3",
   "version": "3.8.5"
  }
 },
 "nbformat": 4,
 "nbformat_minor": 4
}
