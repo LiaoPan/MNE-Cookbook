{
 "cells": [
  {
   "cell_type": "code",
   "execution_count": null,
   "metadata": {},
   "outputs": [],
   "source": [
    "# 通过通道名获取数据的index\n",
    "raw = mne.io.read_raw_fif('your fif')\n",
    "raw.ch_names.index('MEG0223')"
   ]
  }
 ],
 "metadata": {
  "language_info": {
   "name": "python"
  },
  "orig_nbformat": 4
 },
 "nbformat": 4,
 "nbformat_minor": 2
}
