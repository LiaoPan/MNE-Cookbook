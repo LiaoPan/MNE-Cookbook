{
 "cells": [
  {
   "cell_type": "code",
   "execution_count": null,
   "metadata": {},
   "outputs": [],
   "source": [
    "#self.info['chs'][c_ind]['unit']\n",
    "raw.info['chs'][1]['unit']"
   ]
  },
  {
   "cell_type": "code",
   "execution_count": null,
   "metadata": {},
   "outputs": [],
   "source": [
    "FIFF.FIFF_UNIT_MOL_M3 = 10  # mol/m^3\n",
    "FIFF.FIFF_UNIT_HZ  = 101  # hertz\n",
    "FIFF.FIFF_UNIT_N   = 102  # Newton\n",
    "FIFF.FIFF_UNIT_PA  = 103  # pascal\n",
    "FIFF.FIFF_UNIT_J   = 104  # joule\n",
    "FIFF.FIFF_UNIT_W   = 105  # watt\n",
    "FIFF.FIFF_UNIT_C   = 106  # coulomb\n",
    "FIFF.FIFF_UNIT_V   = 107  # volt\n",
    "FIFF.FIFF_UNIT_F   = 108  # farad\n",
    "FIFF.FIFF_UNIT_OHM = 109  # ohm\n",
    "FIFF.FIFF_UNIT_MHO = 110  # one per ohm\n",
    "FIFF.FIFF_UNIT_WB  = 111  # weber\n",
    "FIFF.FIFF_UNIT_T   = 112  # tesla\n",
    "FIFF.FIFF_UNIT_H   = 113  # Henry\n",
    "FIFF.FIFF_UNIT_CEL = 114  # celsius\n",
    "FIFF.FIFF_UNIT_LM  = 115  # lumen\n",
    "FIFF.FIFF_UNIT_LX  = 116  # lux\n",
    "FIFF.FIFF_UNIT_V_M2 = 117  # V/m^2"
   ]
  }
 ],
 "metadata": {
  "kernelspec": {
   "display_name": "Python 3",
   "language": "python",
   "name": "python3"
  },
  "language_info": {
   "codemirror_mode": {
    "name": "ipython",
    "version": 3
   },
   "file_extension": ".py",
   "mimetype": "text/x-python",
   "name": "python",
   "nbconvert_exporter": "python",
   "pygments_lexer": "ipython3",
   "version": "3.8.5"
  }
 },
 "nbformat": 4,
 "nbformat_minor": 4
}
